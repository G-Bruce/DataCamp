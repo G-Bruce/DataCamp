{
 "cells": [
  {
   "cell_type": "markdown",
   "metadata": {},
   "source": [
    "# DataCamp: Supervised Learning with Scikit Learn"
   ]
  },
  {
   "cell_type": "markdown",
   "metadata": {},
   "source": [
    "## Chapter 2 - Introduction to Regression"
   ]
  },
  {
   "cell_type": "markdown",
   "metadata": {},
   "source": [
    "Supervised Classification problem: Using labeled financial data to predict whether the value of a stock will go up or go down next week.\n",
    "\n",
    "x: [Predictor, Independent, Features]\n",
    "\n",
    "y: [Response, Dependent, Target] "
   ]
  },
  {
   "cell_type": "markdown",
   "metadata": {},
   "source": [
    "## Introduction to Regression"
   ]
  },
  {
   "cell_type": "markdown",
   "metadata": {},
   "source": [
    "### Importing data for supervised learning"
   ]
  },
  {
   "cell_type": "markdown",
   "metadata": {},
   "source": [
    "In this chapter, you will work with Gapminder (https://www.gapminder.org/data/) data that we have consolidated into one CSV file available in the workspace as 'gapminder.csv'. Specifically, your goal will be to use this data to predict the life expectancy in a given country based on features such as the country's GDP, fertility rate, and population. As in Chapter 1, the dataset has been preprocessed.\n",
    "\n",
    "Since the target variable here is quantitative, this is a regression problem. To begin, you will fit a linear regression with just one feature: 'fertility', which is the average number of children a woman in a given country gives birth to. In later exercises, you will use all the features to build regression models.\n",
    "\n",
    "Before that, however, you need to import the data and get it into the form needed by scikit-learn. This involves creating feature and target variable arrays. Furthermore, since you are going to use only one feature to begin with, you need to do some reshaping using NumPy's .reshape() method. Don't worry too much about this reshaping right now, but it is something you will have to do occasionally when working with scikit-learn so it is useful to practice."
   ]
  },
  {
   "cell_type": "code",
   "execution_count": null,
   "metadata": {},
   "outputs": [],
   "source": [
    "# Import numpy and pandas\n",
    "import numpy as np\n",
    "import pandas as pd\n",
    "\n",
    "# Read the CSV file into a DataFrame: df\n",
    "df = pd.read_csv('gapminder.csv')\n",
    "\n",
    "df.head()\n",
    "\n",
    "#    population  --fertility--  HIV        CO2  BMI_male      GDP  BMI_female  --life--  \\\n",
    "# 0  34811059.0       2.73      0.1   3.328945  24.59620  12314.0    129.9049    75.3   \n",
    "# 1  19842251.0       6.43      2.0   1.474353  22.25083   7103.0    130.1247    58.3   \n",
    "# 2  40381860.0       2.24      0.5   4.785170  27.50170  14646.0    118.8915    75.5   \n",
    "# 3   2975029.0       1.40      0.1   1.804106  25.35542   7383.0    132.8108    72.5   \n",
    "# 4  21370348.0       1.96      0.1  18.016313  27.56373  41312.0    117.3755    81.5   \n",
    "\n",
    "#    child_mortality  \n",
    "# 0             29.5  \n",
    "# 1            192.0  \n",
    "# 2             15.4  \n",
    "# 3             20.0  \n",
    "# 4              5.2\n",
    "\n",
    "# Create arrays for features and target variable\n",
    "y = df['life'].values\n",
    "X = df['fertility'].values\n",
    "\n",
    "print(X)\n",
    "# [ 2.73  6.43  2.24  1.4   1.96  1.41 ... 2.11  2.46  1.86  5.88  3.85]\n",
    "\n",
    "X.shape\n",
    "# Out[6]: (139,)\n",
    "\n",
    "print(y)\n",
    "# [ 75.3  58.3  75.5  72.5  81.5  80.4  70.6 ...  76.   68.7  75.4  52.   49. ]\n",
    "\n",
    "y.shape\n",
    "# Out[5]: (139,)\n",
    "\n",
    "# Print the dimensions of X and y before reshaping\n",
    "print(\"Dimensions of y before reshaping: {}\".format(y.shape))\n",
    "print(\"Dimensions of X before reshaping: {}\".format(X.shape))\n",
    "\n",
    "# Reshape X and y \n",
    "y = y.reshape(-1, 1)\n",
    "X = X.reshape(-1, 1)\n",
    "\n",
    "# Print the dimensions of X and y after reshaping\n",
    "print(\"Dimensions of y after reshaping: {}\".format(y.shape))\n",
    "print(\"Dimensions of X after reshaping: {}\".format(X.shape))\n",
    "\n",
    "# Print the dimensions of X and y before reshaping\n",
    "print(\"Dimensions of y before reshaping: {}\".format(y.shape))\n",
    "print(\"Dimensions of X before reshaping: {}\".format(X.shape))\n",
    "\n",
    "# Dimensions of y before reshaping: (139,)\n",
    "# Dimensions of X before reshaping: (139,)\n",
    "# Dimensions of y after reshaping: (139, 1)\n",
    "# Dimensions of X after reshaping: (139, 1)\n",
    "    \n",
    "print(y)\n",
    "# [[ 75.3]\n",
    "#  [ 58.3]\n",
    "#  [ 75.5]\n",
    "# ...\n",
    "#  [ 75.4]\n",
    "#  [ 52. ]\n",
    "#  [ 49. ]]\n",
    "\n",
    "print(X)\n",
    "# [[ 2.73]\n",
    "#  [ 6.43]\n",
    "#  [ 2.24]\n",
    "#  [ 1.4 ]\n",
    "#  ...\n",
    "#  [ 2.46]\n",
    "#  [ 1.86]\n",
    "#  [ 5.88]\n",
    "#  [ 3.85]]\n"
   ]
  },
  {
   "cell_type": "markdown",
   "metadata": {},
   "source": [
    "## Exploring the Gapminder data"
   ]
  },
  {
   "cell_type": "markdown",
   "metadata": {},
   "source": [
    "As always, it is important to explore your data before building models. On the right, we have constructed a heatmap showing the correlation between the different features of the Gapminder dataset, which has been pre-loaded into a DataFrame as df and is available for exploration in the IPython Shell. Cells that are in green show positive correlation, while cells that are in red show negative correlation. Take a moment to explore this: Which features are positively correlated with life, and which ones are negatively correlated? Does this match your intuition?\n",
    "\n",
    "Then, in the IPython Shell, explore the DataFrame using pandas methods such as .info(), .describe(), .head().\n",
    "\n",
    "In case you are curious, the heatmap was generated using Seaborn's heatmap function (http://seaborn.pydata.org/generated/seaborn.heatmap.html) and the following line of code, where df.corr() computes the pairwise correlation between columns:\n",
    "\n",
    "sns.heatmap(df.corr(), square=True, cmap='RdYlGn')\n",
    "\n",
    "Once you have a feel for the data, consider the statements below and select the one that is not true. After this, Hugo will explain the mechanics of linear regression in the next video and you will be on your way building regression models!"
   ]
  },
  {
   "cell_type": "markdown",
   "metadata": {},
   "source": [
    "## Fit & predict for regression"
   ]
  },
  {
   "cell_type": "markdown",
   "metadata": {},
   "source": [
    "Now, you will fit a linear regression and predict life expectancy using just one feature. You saw Andy do this earlier using the 'RM' feature of the Boston housing dataset. In this exercise, you will use the 'fertility' feature of the Gapminder dataset. \n",
    "\n",
    "**Since the goal is to predict life expectancy, the target variable here is 'life'.** \n",
    "\n",
    "The array for the target variable has been pre-loaded as y and the array for 'fertility' has been pre-loaded as X_fertility.\n",
    "\n",
    "A scatter plot with 'fertility' on the x-axis and 'life' on the y-axis has been generated. As you can see, there is a strongly negative correlation, so a linear regression should be able to capture this trend. Your job is to fit a linear regression and then predict the life expectancy, overlaying these predicted values on the plot to generate a regression line. You will also compute and print the R2\n",
    "score using sckit-learn's .score() method."
   ]
  },
  {
   "cell_type": "code",
   "execution_count": null,
   "metadata": {},
   "outputs": [],
   "source": [
    "# Import LinearRegression\n",
    "from sklearn.linear_model import LinearRegression\n",
    "\n",
    "# Create the regressor: reg\n",
    "reg = linear_model.LinearRegression()\n",
    "\n",
    "\n",
    "y.shape\n",
    "# Out[5]: (139, 1)\n",
    "\n",
    "y\n",
    "# Out[6]: \n",
    "# array([[ 75.3],\n",
    "#        [ 58.3],\n",
    "#        [ 75.5],\n",
    "#        [ 72.5],\n",
    "#          ...\n",
    "#        [ 68.7],\n",
    "#        [ 75.4],\n",
    "#        [ 52. ],\n",
    "#        [ 49. ]])\n",
    "\n",
    "X.shape\n",
    "#Out[8]: (139, 8)\n",
    "\n",
    "X\n",
    "#       population  fertility    HIV        CO2  BMI_male      GDP  BMI_female   child_mortality\n",
    "# 0     34811059.0       2.73   0.10   3.328945  24.59620  12314.0    129.9049   29.5\n",
    "# 1     19842251.0       6.43   2.00   1.474353  22.25083   7103.0    130.1247   192.0\n",
    "# 2     40381860.0       2.24   0.50   4.785170  27.50170  14646.0    118.8915   15.4\n",
    "# [139 rows x 8 columns]\n",
    "\n",
    "X_fertility\n",
    "# Out[15]: \n",
    "# array([[ 2.73],\n",
    "#        [ 6.43],\n",
    "#        [ 2.24],\n",
    "#        [ 1.4 ],\n",
    "#         ...\n",
    "#        [ 1.86],\n",
    "#        [ 5.88],\n",
    "#        [ 3.85]])\n",
    "\n",
    "# Create the prediction space\n",
    "prediction_space = np.linspace(min(X_fertility), max(X_fertility)).reshape(-1,1)\n",
    "\n",
    "min(X_fertility)\n",
    "# Out[16]: array([ 1.28])\n",
    "\n",
    "max(X_fertility)\n",
    "# Out[17]: array([ 7.59])\n",
    "\n",
    "np.linspace(min(X_fertility), max(X_fertility)).reshape(-1,1)\n",
    "# Out[14]: \n",
    "# array([[ 1.28 ], \n",
    "#        [1.40877551], \n",
    "#        [1.53755102], \n",
    "#        [1.66632653], \n",
    "#         ... \n",
    "#        [7.20367347], \n",
    "#        [7.33244898], \n",
    "#        [7.46122449],\n",
    "#        [7.59]])\n",
    "\n",
    "# Fit the model to the data\n",
    "reg.fit(X_fertility, y)\n",
    "\n",
    "# Compute predictions over the prediction space: y_pred\n",
    "y_pred = reg.predict(prediction_space)\n",
    "\n",
    "# Print R^2 \n",
    "print(reg.score(X_fertility, y))\n",
    "# <script.py> output:\n",
    "#   0.619244216774\n",
    "\n",
    "# Plot regression line\n",
    "plt.plot(prediction_space, y_pred, color='black', linewidth=3)\n",
    "plt.show()"
   ]
  },
  {
   "cell_type": "code",
   "execution_count": 1,
   "metadata": {},
   "outputs": [],
   "source": [
    "import numpy as np"
   ]
  },
  {
   "cell_type": "code",
   "execution_count": 8,
   "metadata": {},
   "outputs": [
    {
     "data": {
      "text/plain": [
       "array([1.28, 2.28, 3.28, 4.28, 5.28, 6.28, 7.28])"
      ]
     },
     "execution_count": 8,
     "metadata": {},
     "output_type": "execute_result"
    }
   ],
   "source": [
    "np.arange(1.28, 7.59)"
   ]
  },
  {
   "cell_type": "code",
   "execution_count": 9,
   "metadata": {},
   "outputs": [
    {
     "data": {
      "text/plain": [
       "(array([1.28      , 1.40877551, 1.53755102, 1.66632653, 1.79510204,\n",
       "        1.92387755, 2.05265306, 2.18142857, 2.31020408, 2.43897959,\n",
       "        2.5677551 , 2.69653061, 2.82530612, 2.95408163, 3.08285714,\n",
       "        3.21163265, 3.34040816, 3.46918367, 3.59795918, 3.72673469,\n",
       "        3.8555102 , 3.98428571, 4.11306122, 4.24183673, 4.37061224,\n",
       "        4.49938776, 4.62816327, 4.75693878, 4.88571429, 5.0144898 ,\n",
       "        5.14326531, 5.27204082, 5.40081633, 5.52959184, 5.65836735,\n",
       "        5.78714286, 5.91591837, 6.04469388, 6.17346939, 6.3022449 ,\n",
       "        6.43102041, 6.55979592, 6.68857143, 6.81734694, 6.94612245,\n",
       "        7.07489796, 7.20367347, 7.33244898, 7.46122449, 7.59      ]),\n",
       " 0.12877551020408162)"
      ]
     },
     "execution_count": 9,
     "metadata": {},
     "output_type": "execute_result"
    }
   ],
   "source": [
    "np.linspace(1.28, 7.59,retstep=True)"
   ]
  },
  {
   "cell_type": "markdown",
   "metadata": {},
   "source": [
    "## Train/test split for regression"
   ]
  },
  {
   "cell_type": "markdown",
   "metadata": {},
   "source": [
    "As you learned in Chapter 1, train and test sets are vital to ensure that your supervised learning model is able to generalize well to new data. This was true for classification models, and is equally true for linear regression models.\n",
    "\n",
    "In this exercise, you will split the Gapminder dataset into training and testing sets, and then fit and predict a linear regression over all features. In addition to computing the R2\n",
    "score, you will also compute the Root Mean Squared Error (RMSE), which is another commonly used metric to evaluate regression models. The feature array X and target variable array y have been pre-loaded for you from the DataFrame df."
   ]
  },
  {
   "cell_type": "code",
   "execution_count": null,
   "metadata": {},
   "outputs": [],
   "source": [
    "# Import necessary modules\n",
    "from sklearn.linear_model import LinearRegression\n",
    "from sklearn.metrics import mean_squared_error\n",
    "from sklearn.model_selection import train_test_split\n",
    "\n",
    "# Create training and test sets\n",
    "X_train, X_test, y_train, y_test = train_test_split(X, y, test_size = 0.3, random_state=42)\n",
    "\n",
    "X_train.shape\n",
    "# Out[3]: (97, 8)\n",
    "\n",
    "# Out[12]: \n",
    "# array([[  1.33994100e+06,   1.62000000e+00,   1.20000000e+00,\n",
    "#           1.30313789e+01,   2.62644600e+01,   2.47430000e+04,\n",
    "#           1.29516100e+02,   5.50000000e+00], ...\n",
    "#        [  3.85257520e+07,   1.33000000e+00,   1.00000000e-01,\n",
    "#           8.27076715e+00,   2.66738000e+01,   1.99960000e+04,\n",
    "#           1.29676500e+02,   6.70000000e+00]])\n",
    "\n",
    "y_train.shape\n",
    "# Out[4]: (97,)\n",
    "\n",
    "y_train\n",
    "# Out[11]: \n",
    "# array([ 74. ,  54.8,  75.5,  74.1,  52. , ...\n",
    "#         49. ,  57.4,  61. ,  67.6,  67.6,  59.7,  75.3])\n",
    "\n",
    "X_test.shape\n",
    "# Out[5]: (42, 8)\n",
    "\n",
    "X_test\n",
    "# Out[9]: \n",
    "# array([[  2.69527190e+07,   2.46000000e+00,   1.00000000e-01,\n",
    "#           4.47666902e+00,   2.53205400e+01,   3.73300000e+03,\n",
    "#           1.24346200e+02,   4.92000000e+01],\n",
    "\n",
    "y_test.shape\n",
    "# Out[6]: (42,)\n",
    "\n",
    "y_test\n",
    "# Out[8]: \n",
    "# array([ 68.7,  66.1,  76.5,  67.4,  79.4,  70.7,  58.3,  72.3,  60. ,\n",
    "#         70.9,  74.8,  57.2,  63.6,  59.4,  55. ,  77.6,  79.4,  62.6,\n",
    "#         76. ,  76.4,  70.1,  74.3,  55.8,  81.5,  80.7,  75.1,  79.5,\n",
    "#         76.9,  61.2,  73.2,  70.1,  73.8,  80.4,  82.6,  73.4,  62.2,\n",
    "#         72.1,  80.3,  74.6,  75.3,  58. ,  58.6])\n",
    "\n",
    "# Create the regressor: reg_all\n",
    "reg_all = LinearRegression()\n",
    "\n",
    "# Fit the regressor to the training data\n",
    "reg_all.fit(X_train, y_train)\n",
    "\n",
    "# Predict on the test data: y_pred\n",
    "y_pred = reg_all.predict(X_test)\n",
    "\n",
    "# Compute and print R^2 and RMSE\n",
    "print(\"R^2: {}\".format(reg_all.score(X_test, y_test)))\n",
    "rmse = np.sqrt(mean_squared_error(y_test, y_pred))\n",
    "print(\"Root Mean Squared Error: {}\".format(rmse))\n",
    "\n",
    "# R^2: 0.838046873142936\n",
    "# Root Mean Squared Error: 3.2476010800377213"
   ]
  },
  {
   "cell_type": "markdown",
   "metadata": {},
   "source": [
    "Using all features has improved the model score. This makes sense, as the model has more information to learn from. \n",
    "\n",
    "However, there is one potential pitfall to this process. Can you spot it? "
   ]
  },
  {
   "cell_type": "markdown",
   "metadata": {},
   "source": [
    "## Cross-Validation: CV"
   ]
  },
  {
   "cell_type": "markdown",
   "metadata": {},
   "source": [
    "## 5-fold Cross-Validation (CV)"
   ]
  },
  {
   "cell_type": "markdown",
   "metadata": {},
   "source": [
    "Cross-validation is a vital step in evaluating a model. It maximizes the amount of data that is used to train the model, as during the course of training, the model is not only trained, but also tested on all of the available data.\n",
    "\n",
    "In this exercise, you will practice 5-fold cross validation on the Gapminder data. By default, scikit-learn's cross_val_score() function uses R2\n",
    "\n",
    "as the metric of choice for regression. Since you are performing 5-fold cross-validation, the function will return 5 scores. Your job is to compute these 5 scores and then take their average.\n",
    "\n",
    "The DataFrame has been loaded as df and split into the feature/target variable arrays X and y. The modules pandas and numpy have been imported as pd and np, respectively."
   ]
  },
  {
   "cell_type": "code",
   "execution_count": null,
   "metadata": {},
   "outputs": [],
   "source": [
    "# Import the necessary modules\n",
    "from sklearn.linear_model import LinearRegression\n",
    "from sklearn.model_selection import cross_val_score\n",
    "\n",
    "# Create a linear regression object: reg\n",
    "reg = LinearRegression()\n",
    "\n",
    "# Compute 5-fold cross-validation scores: cv_scores\n",
    "cv_scores = cross_val_score(reg, X, y, cv=5)\n",
    "\n",
    "# Print the 5-fold cross-validation scores\n",
    "print(cv_scores)\n",
    "[ 0.81720569  0.82917058  0.90214134  0.80633989  0.94495637]\n",
    "print(\"Average 5-Fold CV Score: {}\".format(np.mean(cv_scores)))\n",
    "Average 5-Fold CV Score: 0.8599627722793232"
   ]
  },
  {
   "cell_type": "markdown",
   "metadata": {},
   "source": [
    "## K-Fold CV comparison"
   ]
  },
  {
   "cell_type": "markdown",
   "metadata": {},
   "source": [
    "Cross validation is essential but do not forget that the more folds you use, the more computationally expensive cross-validation becomes. In this exercise, you will explore this for yourself. Your job is to perform 3-fold cross-validation and then 10-fold cross-validation on the Gapminder dataset.\n",
    "\n",
    "In the IPython Shell, you can use %timeit to see how long each 3-fold CV takes compared to 10-fold CV by executing the following cv=3 and cv=10:\n",
    "\n",
    "%timeit cross_val_score(reg, X, y, cv = ____)\n",
    "\n",
    "pandas and numpy are available in the workspace as pd and np. The DataFrame has been loaded as df and the feature/target variable arrays X and y have been created."
   ]
  },
  {
   "cell_type": "code",
   "execution_count": null,
   "metadata": {},
   "outputs": [],
   "source": [
    "# Import necessary modules\n",
    "from sklearn.linear_model import LinearRegression\n",
    "from sklearn.model_selection import cross_val_score\n",
    "\n",
    "# Create a linear regression object: reg\n",
    "reg = LinearRegression()\n",
    "\n",
    "# Perform 3-fold CV\n",
    "cvscores_3 = cross_val_score(reg, X, y, cv = 3)\n",
    "print(np.mean(cvscores_3))\n",
    "# 0.843612862013\n",
    "    \n",
    "# Perform 10-fold CV\n",
    "cvscores_10 = cross_val_score(reg, X, y, cv = 10)\n",
    "print(np.mean(cvscores_10))\n",
    "# 0.843612862013"
   ]
  },
  {
   "cell_type": "markdown",
   "metadata": {},
   "source": [
    "# Regularization I: Lasso"
   ]
  },
  {
   "cell_type": "markdown",
   "metadata": {},
   "source": [
    "In the video, you saw how Lasso selected out the 'RM' feature as being the most important for predicting Boston house prices, while shrinking the coefficients of certain other features to 0. Its ability to perform feature selection in this way becomes even more useful when you are dealing with data involving thousands of features.\n",
    "\n",
    "In this exercise, you will fit a lasso regression to the Gapminder data you have been working with and plot the coefficients. Just as with the Boston data, you will find that the coefficients of some features are shrunk to 0, with only the most important ones remaining.\n",
    "\n",
    "The feature and target variable arrays have been pre-loaded as X and y."
   ]
  },
  {
   "cell_type": "code",
   "execution_count": null,
   "metadata": {},
   "outputs": [],
   "source": [
    "# Import Lasso\n",
    "from sklearn.linear_model import Lasso\n",
    "\n",
    "# Instantiate a lasso regressor: lasso\n",
    "lasso = Lasso(alpha=0.4, normalize=True)\n",
    "\n",
    "# Fit the regressor to the data\n",
    "lasso.fit(X, y)\n",
    "\n",
    "# Compute and print the coefficients\n",
    "lasso_coef = lasso.coef_\n",
    "print(lasso_coef)\n",
    "\n",
    "# Plot the coefficients\n",
    "plt.plot(range(len(df_columns)), lasso_coef)\n",
    "plt.xticks(range(len(df_columns)), df_columns.values, rotation=60)\n",
    "plt.margins(0.02)\n",
    "plt.show()\n",
    "\n",
    "# [-0.         -0.         -0.          0.          0.          0.         -0.   -0.07087587]\n",
    "\n",
    "# According to the lasso algorithm, it seems like 'child_mortality' is the most important feature \n",
    "#   when predicting life expectancy."
   ]
  },
  {
   "cell_type": "markdown",
   "metadata": {},
   "source": [
    "## Regularization II: Ridge"
   ]
  },
  {
   "cell_type": "markdown",
   "metadata": {},
   "source": [
    "**Lasso is great for feature selection, but when building regression models, Ridge regression should be your first choice.**\n",
    "\n",
    "Recall that lasso performs regularization by adding to the loss function a penalty term of the absolute value of each coefficient multiplied by some alpha. This is also known as L1\n",
    "regularization because the regularization term is the L1 norm of the coefficients. This is not the only way to regularize, however.\n",
    "\n",
    "If instead you took the sum of the squared values of the coefficients multiplied by some alpha (like in Ridge regression) you would be computing the L2 norm. \n",
    "\n",
    "In this exercise, you will practice fitting ridge regression models over a range of different alphas, and plot cross-validated R2 scores for each, using this function that we have defined for you, which plots the R2 score as well as standard error for each alpha:\n",
    "\n",
    "def display_plot(cv_scores, cv_scores_std):\n",
    "    \n",
    "    fig = plt.figure()\n",
    "    ax = fig.add_subplot(1,1,1)\n",
    "    ax.plot(alpha_space, cv_scores)\n",
    "\n",
    "    std_error = cv_scores_std / np.sqrt(10)\n",
    "\n",
    "    ax.fill_between(alpha_space, cv_scores + std_error, cv_scores - std_error, alpha=0.2)\n",
    "    ax.set_ylabel('CV Score +/- Std Error')\n",
    "    ax.set_xlabel('Alpha')\n",
    "    ax.axhline(np.max(cv_scores), linestyle='--', color='.5')\n",
    "    ax.set_xlim([alpha_space[0], alpha_space[-1]])\n",
    "    ax.set_xscale('log')\n",
    "    plt.show()\n",
    "    \n",
    "Don't worry about the specifics of the above function works. The motivation behind this exercise is for you to see how the R2 score varies with different alphas, and to understand the importance of selecting the right value for alpha. You'll learn how to tune alpha in the next chapter."
   ]
  },
  {
   "cell_type": "code",
   "execution_count": null,
   "metadata": {},
   "outputs": [],
   "source": [
    "X\n",
    "# Out[1]: \n",
    "# array([[  3.48110590e+07,   2.73000000e+00,   1.00000000e-01, ...,\n",
    "#           1.23140000e+04,   1.29904900e+02,   2.95000000e+01], \n",
    "#       [  1.31145790e+07,   5.88000000e+00,   1.36000000e+01, ...,\n",
    "#          3.03900000e+03,   1.32449300e+02,   9.49000000e+01],\n",
    "#       [  1.34954620e+07,   3.85000000e+00,   1.51000000e+01, ...,\n",
    "#          1.28600000e+03,   1.31974500e+02,   9.83000000e+01]])\n",
    "\n",
    "# y\n",
    "# Out[2]: \n",
    "# array([ 75.3,  58.3,  75.5,  72.5,  81.5,  80.4,  70.6,  72.2,  68.4,\n",
    "#         75.3,  70.1,  79.4,  70.7,  63.2,  67.6,  70.9,  61.2,  73.9, ...\n",
    "#         60. ,  71.3,  76.5,  75.1,  57.2,  68.2,  79.5,  78.2,  76. ,\n",
    "#         68.7,  75.4,  52. ,  49. ])\n",
    "\n",
    "# np.logspace(-4, 0, 50)\n",
    "# Out[6]: \n",
    "# array([  1.00000000e-04,   1.20679264e-04,   1.45634848e-04,\n",
    "#          1.75751062e-04,   2.12095089e-04,   2.55954792e-04,\n",
    "#          3.08884360e-04,   3.72759372e-04,   4.49843267e-04, ...\n",
    "#          2.68269580e-01,   3.23745754e-01,   3.90693994e-01,\n",
    "#          4.71486636e-01,   5.68986603e-01,   6.86648845e-01,\n",
    "#          8.28642773e-01,   1.00000000e+00])\n",
    "\n",
    "# Import necessary modules\n",
    "import numpy as np\n",
    "from sklearn.linear_model import Ridge\n",
    "from sklearn.model_selection import cross_val_score\n",
    "\n",
    "# Setup the array of alphas and lists to store scores\n",
    "alpha_space = np.logspace(-4, 0, 50)\n",
    "ridge_scores = []\n",
    "ridge_scores_std = []\n",
    "\n",
    "# Create a ridge regressor: ridge\n",
    "ridge = Ridge(normalize=True)\n",
    "\n",
    "# Compute scores over range of alphas\n",
    "for alpha in alpha_space:\n",
    "\n",
    "    # Specify the alpha value to use: ridge.alpha\n",
    "    ridge.alpha = alpha\n",
    "    print(alpha)\n",
    "    # Perform 10-fold CV: ridge_cv_scores\n",
    "    ridge_cv_scores = cross_val_score(ridge, X, y, cv=10)\n",
    "    \n",
    "    # Append the mean of ridge_cv_scores to ridge_scores\n",
    "    ridge_scores.append(np.mean(ridge_cv_scores))\n",
    "    \n",
    "    # Append the std of ridge_cv_scores to ridge_scores_std\n",
    "    ridge_scores_std.append(np.std(ridge_cv_scores))\n",
    "\n",
    "# Display the plot\n",
    "display_plot(ridge_scores, ridge_scores_std)\n",
    "\n",
    "print(alpha)\n",
    "output:\n",
    "    0.0001\n",
    "    0.000120679264064\n",
    "    0.00014563484775\n",
    "    0.000175751062485\n",
    "    0.000212095088792\n",
    "    0.00025595479227\n",
    "    0.000308884359648\n",
    "    0.000372759372031\n",
    "    0.000449843266897\n",
    "    0.000542867543932\n",
    "    0.00065512855686\n",
    "    0.000790604321091\n",
    "    0.00095409547635\n",
    "    0.00115139539933\n",
    "    0.00138949549437\n",
    "    0.00167683293681\n",
    "    0.00202358964773\n",
    "    0.00244205309455\n",
    "    0.00294705170255\n",
    "    0.00355648030622\n",
    "    0.00429193426013\n",
    "    0.00517947467923\n",
    "    0.00625055192527\n",
    "    0.00754312006335\n",
    "    0.00910298177992\n",
    "    0.0109854114199\n",
    "    0.0132571136559\n",
    "    0.0159985871961\n",
    "    0.0193069772888\n",
    "    0.0232995181052\n",
    "    0.0281176869797\n",
    "    0.033932217719\n",
    "    0.0409491506238\n",
    "    0.0494171336132\n",
    "    0.0596362331659\n",
    "    0.0719685673001\n",
    "    0.0868511373751\n",
    "    0.104811313415\n",
    "    0.126485521686\n",
    "    0.152641796718\n",
    "    0.184206996933\n",
    "    0.222299648253\n",
    "    0.268269579528\n",
    "    0.323745754282\n",
    "    0.390693993705\n",
    "    0.471486636346\n",
    "    0.568986602902\n",
    "    0.686648845004\n",
    "    0.828642772855\n",
    "    1.0"
   ]
  }
 ],
 "metadata": {
  "kernelspec": {
   "display_name": "Python 3",
   "language": "python",
   "name": "python3"
  },
  "language_info": {
   "codemirror_mode": {
    "name": "ipython",
    "version": 3
   },
   "file_extension": ".py",
   "mimetype": "text/x-python",
   "name": "python",
   "nbconvert_exporter": "python",
   "pygments_lexer": "ipython3",
   "version": "3.6.6"
  }
 },
 "nbformat": 4,
 "nbformat_minor": 2
}
