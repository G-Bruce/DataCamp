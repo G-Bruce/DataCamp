{
 "cells": [
  {
   "cell_type": "markdown",
   "metadata": {},
   "source": [
    "# Concurrent Versions of Python"
   ]
  },
  {
   "cell_type": "markdown",
   "metadata": {},
   "source": [
    "https://towardsdatascience.com/environment-management-with-conda-python-2-3-b9961a8a5097\n",
    "\n",
    "https://www.reddit.com/r/Python/comments/4pqc61/installing_anaconda2_anaconda3_concurrently/\n",
    "\n",
    "https://stackoverflow.com/questions/51844869/manage-both-anaconda-2-and-anaconda-3-distributions-independently"
   ]
  },
  {
   "cell_type": "code",
   "execution_count": null,
   "metadata": {},
   "outputs": [],
   "source": [
    "conda create --name py27 python=2.7\n",
    "\n",
    "conda activate py27\n",
    "\n",
    "python --version\n",
    "\n",
    "deactivate\n",
    "\n",
    "conda env list\n",
    "\n",
    "conda env remove --name py27"
   ]
  },
  {
   "cell_type": "code",
   "execution_count": 6,
   "metadata": {},
   "outputs": [
    {
     "name": "stdout",
     "output_type": "stream",
     "text": [
      "3.7.1 (default, Dec 10 2018, 22:54:23) [MSC v.1915 64 bit (AMD64)]\n"
     ]
    }
   ],
   "source": [
    "import sys\n",
    "print(sys.version)"
   ]
  },
  {
   "cell_type": "code",
   "execution_count": null,
   "metadata": {},
   "outputs": [],
   "source": [
    "# What version of conda \n",
    "conda --version\n",
    "\n",
    "# Need to access kernels (nb_conda_kernels)\n",
    "conda list\n",
    "\n",
    "# If nb_conda_kernels is not loaded then it needs to be installed\n",
    "conda install nb_conda_kernels\n",
    "\n",
    "conda create --name py27 python=2.7 ipykernel"
   ]
  }
 ],
 "metadata": {
  "kernelspec": {
   "display_name": "Python 3",
   "language": "python",
   "name": "python3"
  },
  "language_info": {
   "codemirror_mode": {
    "name": "ipython",
    "version": 3
   },
   "file_extension": ".py",
   "mimetype": "text/x-python",
   "name": "python",
   "nbconvert_exporter": "python",
   "pygments_lexer": "ipython3",
   "version": "3.7.1"
  }
 },
 "nbformat": 4,
 "nbformat_minor": 2
}
